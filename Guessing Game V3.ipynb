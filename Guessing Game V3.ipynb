{
 "cells": [
  {
   "cell_type": "code",
   "execution_count": 2,
   "id": "e28a972f-5bd0-459b-9de0-d1e79323c60f",
   "metadata": {},
   "outputs": [],
   "source": [
    "def randomint():\n",
    "    import random \n",
    "    randomint = random.randint(0,100)\n",
    "    return randomint"
   ]
  },
  {
   "cell_type": "code",
   "execution_count": 3,
   "id": "ce888faa-1306-4dd0-9da0-9e3cfe1fbd6c",
   "metadata": {},
   "outputs": [],
   "source": [
    "def game(rand):\n",
    "    lst = []\n",
    "    state = True\n",
    "    state2 = True\n",
    "    while state:\n",
    "        while state2:\n",
    "            guess = int(input(\"Guess a number between 0 and 100\"))\n",
    "            if 0<=guess<101:\n",
    "                state2= False\n",
    "            \n",
    "        lst.append(guess)\n",
    "        if rand == guess:\n",
    "            print(\"you guessed\", len(lst), \"times\")\n",
    "            return \"Correct\"\n",
    "        elif len(lst)>1 and abs(rand-guess) > abs(rand-lst[-2]):\n",
    "            state2 = True\n",
    "            print(\"Colder, Guess again\")\n",
    "        elif len(lst)>1 and abs(rand-guess) < abs(rand-lst[-2]):\n",
    "            state2 = True\n",
    "            print(\"Warmer, Guess again\")\n",
    "        else:\n",
    "            state2 = True\n"
   ]
  },
  {
   "cell_type": "code",
   "execution_count": 6,
   "id": "53a11bb4-3e3f-4fbf-ad29-7a5be5c71f10",
   "metadata": {},
   "outputs": [
    {
     "name": "stdout",
     "output_type": "stream",
     "text": [
      "3\n"
     ]
    },
    {
     "name": "stdin",
     "output_type": "stream",
     "text": [
      "Guess a number between 0 and 100 50\n",
      "Guess a number between 0 and 100 100\n"
     ]
    },
    {
     "name": "stdout",
     "output_type": "stream",
     "text": [
      "Colder, Guess again\n"
     ]
    },
    {
     "name": "stdin",
     "output_type": "stream",
     "text": [
      "Guess a number between 0 and 100 3\n"
     ]
    },
    {
     "name": "stdout",
     "output_type": "stream",
     "text": [
      "you guessed 3 times\n",
      "the number was: 3 and your guess was: Correct\n"
     ]
    }
   ],
   "source": [
    "x = randomint()\n",
    "print(x)\n",
    "\n",
    "y = game(x)\n",
    "#print(y)\n",
    "\n",
    "print(\"the number was:\",x ,\"and your guess was:\", y)"
   ]
  },
  {
   "cell_type": "code",
   "execution_count": 7,
   "id": "4b8f47c4-849b-468c-889d-2af866cc6fd5",
   "metadata": {},
   "outputs": [
    {
     "data": {
      "text/plain": [
       "'Correct'"
      ]
     },
     "execution_count": 7,
     "metadata": {},
     "output_type": "execute_result"
    }
   ],
   "source": [
    "y"
   ]
  }
 ],
 "metadata": {
  "kernelspec": {
   "display_name": "Python 3 (ipykernel)",
   "language": "python",
   "name": "python3"
  },
  "language_info": {
   "codemirror_mode": {
    "name": "ipython",
    "version": 3
   },
   "file_extension": ".py",
   "mimetype": "text/x-python",
   "name": "python",
   "nbconvert_exporter": "python",
   "pygments_lexer": "ipython3",
   "version": "3.9.7"
  }
 },
 "nbformat": 4,
 "nbformat_minor": 5
}
