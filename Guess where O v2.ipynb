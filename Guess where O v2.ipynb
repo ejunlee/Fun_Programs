{
 "cells": [
  {
   "cell_type": "code",
   "execution_count": 5,
   "id": "d11d64d3-13db-453b-81fa-d9dbe06dcac7",
   "metadata": {},
   "outputs": [],
   "source": [
    "from random import shuffle\n",
    "\n",
    "def shuf():\n",
    "    frame = [\"\",\"O\",\"\"]\n",
    "    shuffle(frame)\n",
    "    return frame"
   ]
  },
  {
   "cell_type": "code",
   "execution_count": 34,
   "id": "bc88d574-7b49-4f42-8a55-97255124c99a",
   "metadata": {},
   "outputs": [],
   "source": [
    "def user_input():\n",
    "    state = True\n",
    "    while state:\n",
    "        guess = int(input(\"Where do you think O is?\\nChoose a number between 0 and 2:\"))\n",
    "        if 0<=guess<=2:\n",
    "            state =False\n",
    "\n",
    "    return guess "
   ]
  },
  {
   "cell_type": "code",
   "execution_count": 45,
   "id": "8d52d81b-5bee-4937-92c7-b71be99bc075",
   "metadata": {},
   "outputs": [],
   "source": [
    "def game_check(guess):\n",
    "    if frame[guess] == \"O\":\n",
    "        return (\"correct, good guess\")\n",
    "    else:\n",
    "        return(\"looser!\")"
   ]
  },
  {
   "cell_type": "code",
   "execution_count": 60,
   "id": "31cafbbb-756c-41cb-8850-f68cfa6c36e2",
   "metadata": {},
   "outputs": [
    {
     "name": "stdout",
     "output_type": "stream",
     "text": [
      "welcome to guessing where O is\n"
     ]
    },
    {
     "name": "stdin",
     "output_type": "stream",
     "text": [
      "Where do you think O is?\n",
      "Choose a number between 0 and 2: 1\n"
     ]
    },
    {
     "name": "stdout",
     "output_type": "stream",
     "text": [
      "['', '', 'O']\n",
      "looser!\n"
     ]
    },
    {
     "name": "stdin",
     "output_type": "stream",
     "text": [
      "Enter 1 to play again or Enter 2 to end game 1\n",
      "Where do you think O is?\n",
      "Choose a number between 0 and 2: 2\n"
     ]
    },
    {
     "name": "stdout",
     "output_type": "stream",
     "text": [
      "['O', '', '']\n",
      "looser!\n"
     ]
    },
    {
     "name": "stdin",
     "output_type": "stream",
     "text": [
      "Enter 1 to play again or Enter 2 to end game 1\n",
      "Where do you think O is?\n",
      "Choose a number between 0 and 2: 2\n"
     ]
    },
    {
     "name": "stdout",
     "output_type": "stream",
     "text": [
      "['', 'O', '']\n",
      "looser!\n"
     ]
    },
    {
     "name": "stdin",
     "output_type": "stream",
     "text": [
      "Enter 1 to play again or Enter 2 to end game 1\n",
      "Where do you think O is?\n",
      "Choose a number between 0 and 2: 2\n"
     ]
    },
    {
     "name": "stdout",
     "output_type": "stream",
     "text": [
      "['O', '', '']\n",
      "looser!\n"
     ]
    },
    {
     "name": "stdin",
     "output_type": "stream",
     "text": [
      "Enter 1 to play again or Enter 2 to end game 1\n",
      "Where do you think O is?\n",
      "Choose a number between 0 and 2: 1\n"
     ]
    },
    {
     "name": "stdout",
     "output_type": "stream",
     "text": [
      "['', 'O', '']\n",
      "correct, good guess\n"
     ]
    },
    {
     "name": "stdin",
     "output_type": "stream",
     "text": [
      "Enter 1 to play again or Enter 2 to end game 2\n"
     ]
    }
   ],
   "source": [
    "print(\"welcome to guessing where O is\")\n",
    "\n",
    "state = True\n",
    "state2 = True\n",
    "\n",
    "while state:\n",
    "    frame = shuf()\n",
    "\n",
    "\n",
    "    guess = user_input()\n",
    "\n",
    "    print(frame)\n",
    "\n",
    "    x = game_check(guess)\n",
    "    print(x)\n",
    "    \n",
    "    play = int(input(\"Enter 1 to play again or Enter 2 to end game\"))\n",
    "    if play ==2:\n",
    "        state = False\n",
    "            \n",
    "\n"
   ]
  },
  {
   "cell_type": "code",
   "execution_count": null,
   "id": "6094bc76-7c8b-4339-819f-fd13d73061b0",
   "metadata": {},
   "outputs": [],
   "source": []
  }
 ],
 "metadata": {
  "kernelspec": {
   "display_name": "Python 3 (ipykernel)",
   "language": "python",
   "name": "python3"
  },
  "language_info": {
   "codemirror_mode": {
    "name": "ipython",
    "version": 3
   },
   "file_extension": ".py",
   "mimetype": "text/x-python",
   "name": "python",
   "nbconvert_exporter": "python",
   "pygments_lexer": "ipython3",
   "version": "3.9.7"
  }
 },
 "nbformat": 4,
 "nbformat_minor": 5
}
